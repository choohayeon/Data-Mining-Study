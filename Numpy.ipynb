{
 "cells": [
  {
   "cell_type": "markdown",
   "id": "6a80a7e3",
   "metadata": {},
   "source": [
    "# Numpy\n",
    " ## 넘파이 ndarray 개요"
   ]
  },
  {
   "cell_type": "code",
   "execution_count": 72,
   "id": "0901d23f",
   "metadata": {},
   "outputs": [],
   "source": [
    "import numpy as np"
   ]
  },
  {
   "cell_type": "code",
   "execution_count": 73,
   "id": "404d6d89",
   "metadata": {},
   "outputs": [
    {
     "name": "stdout",
     "output_type": "stream",
     "text": [
      "array1 type: <class 'numpy.ndarray'>\n",
      "array1 array 형태: (3,)\n",
      "array2 type: <class 'numpy.ndarray'>\n",
      "array2 array 형태: (2, 3)\n",
      "array3 type: <class 'numpy.ndarray'>\n",
      "array3 array 형태: (1, 3)\n"
     ]
    }
   ],
   "source": [
    "array1 = np.array([1,2,3])\n",
    "print('array1 type:', type(array1))\n",
    "print('array1 array 형태:', array1.shape)\n",
    "\n",
    "array2 = np.array([[1,2,3],\n",
    "                 [2,3,4]])\n",
    "print('array2 type:', type(array2))\n",
    "print('array2 array 형태:', array2.shape)\n",
    "\n",
    "array3 = np.array([[1,2,3]])\n",
    "print('array3 type:', type(array3))\n",
    "print('array3 array 형태:', array3.shape)\n",
    "\n"
   ]
  },
  {
   "cell_type": "markdown",
   "id": "56f27a2b",
   "metadata": {},
   "source": [
    "## ndarray 데이터 타입"
   ]
  },
  {
   "cell_type": "code",
   "execution_count": 74,
   "id": "5778c1c2",
   "metadata": {},
   "outputs": [
    {
     "name": "stdout",
     "output_type": "stream",
     "text": [
      "<class 'list'>\n",
      "<class 'numpy.ndarray'>\n",
      "[1 2 3] int32\n"
     ]
    }
   ],
   "source": [
    "list1 = [1,2,3]\n",
    "print(type(list1))\n",
    "array1 = np.array(list1)\n",
    "print(type(array1))\n",
    "print(array1, array1.dtype)"
   ]
  },
  {
   "cell_type": "markdown",
   "id": "1a3860cb",
   "metadata": {},
   "source": [
    "- 같은 데이터 타입끼리만 연산 가능\n",
    "> 다른 데이터 유형이 섞여 있는 리스트를 ndarray로 변경하면 데이터 크기가 더 큰 데이터 타입으로 형 변환을 일괄 적용"
   ]
  },
  {
   "cell_type": "code",
   "execution_count": 75,
   "id": "a9e4163f",
   "metadata": {},
   "outputs": [
    {
     "name": "stdout",
     "output_type": "stream",
     "text": [
      "['1' '2' 'test'] <U11\n",
      "[1. 2. 3.] float64\n"
     ]
    }
   ],
   "source": [
    "list2 = [1,2,'test']\n",
    "array2 = np.array(list2)\n",
    "print(array2, array2.dtype)\n",
    "\n",
    "list3 = [1,2,3.0]\n",
    "array3 = np.array(list3)\n",
    "print(array3, array3.dtype)"
   ]
  },
  {
   "cell_type": "markdown",
   "id": "e210048e",
   "metadata": {},
   "source": [
    "- ndarray 내 데이터 타입 변경 : astype()\n",
    "> float형 -> int형 : 소수점 이하 제거됨"
   ]
  },
  {
   "cell_type": "code",
   "execution_count": 76,
   "id": "14e74ff5",
   "metadata": {},
   "outputs": [
    {
     "name": "stdout",
     "output_type": "stream",
     "text": [
      "[1. 2. 3.] float64\n",
      "[1 2 3] int32\n",
      "[1 2 3] int32\n"
     ]
    }
   ],
   "source": [
    "array_int = np.array([1,2,3])\n",
    "array_float = array_int.astype('float64')\n",
    "print(array_float, array_float.dtype)\n",
    "\n",
    "array_int1 = array_float.astype('int32')\n",
    "print(array_int1, array_int1.dtype)\n",
    "\n",
    "array_float1 = np.array([1.1,2.1,3.1])\n",
    "array_int2 = array_float1.astype('int32')\n",
    "print(array_int2, array_int2.dtype)"
   ]
  },
  {
   "cell_type": "markdown",
   "id": "50a9d1c3",
   "metadata": {},
   "source": [
    "### ndarray 생성: arrange, zeros, ones\n",
    ">  arange(): array를 range()로 표현\n",
    "   > - 0부터 함수 인자 값 -1까지의 값을 순차적으로 ndarray의 데이터값으로 변환해 줌.\n"
   ]
  },
  {
   "cell_type": "code",
   "execution_count": 77,
   "id": "8ec9de7c",
   "metadata": {},
   "outputs": [
    {
     "name": "stdout",
     "output_type": "stream",
     "text": [
      "[0 1 2 3 4 5 6 7 8 9]\n",
      "int32 (10,)\n"
     ]
    }
   ],
   "source": [
    "sequence_array = np.arange(10)\n",
    "print(sequence_array)\n",
    "print(sequence_array.dtype, sequence_array.shape)"
   ]
  },
  {
   "cell_type": "markdown",
   "id": "53520ab9",
   "metadata": {},
   "source": [
    "> zeros() : 튜플 형태의 shape 값을 입력 시 모든 값을 0으로 채운 해당 shpae를 가진 ndarray를 반환\n",
    "> - defauly dtype: float64\n",
    "\n",
    "> ones(): 튜플형태의 shape 값을 입력하면 모든 값을 1로 채운 해당 shpae를 가진 ndarray로 반환\n",
    "> - defauly dtype: float64"
   ]
  },
  {
   "cell_type": "code",
   "execution_count": 78,
   "id": "9cf8f83f",
   "metadata": {},
   "outputs": [
    {
     "name": "stdout",
     "output_type": "stream",
     "text": [
      "[[0 0]\n",
      " [0 0]\n",
      " [0 0]]\n",
      "int32 (3, 2)\n",
      "[[1. 1.]\n",
      " [1. 1.]\n",
      " [1. 1.]]\n",
      "float64 (3, 2)\n"
     ]
    }
   ],
   "source": [
    "zero_array = np.zeros((3,2),dtype='int32')\n",
    "print(zero_array)\n",
    "print(zero_array.dtype, zero_array.shape)\n",
    "\n",
    "one_array = np.ones((3,2))\n",
    "print(one_array)\n",
    "print(one_array.dtype, one_array.shape)"
   ]
  },
  {
   "cell_type": "markdown",
   "id": "59a9c0e1",
   "metadata": {},
   "source": [
    "### ndarry의 차원과 크기를 변경: reshape()\n",
    "- 지정된 사이즈로만 변경이 가능\n",
    "> (10,) -> (2,5), (5,2) 가능// (10,) -> (4,3) 불가능 \n",
    "- reshape()에 -1값을 인자로 적용한 경우\n",
    "> array1 -> array3 : 고정된 5개의 로우에 맞는 컬럼을 자동으로 새롭게 생성해 변환\n",
    "> - -1을 사용하더라도 화환될 수 없는 형태는 변환될 수 없음"
   ]
  },
  {
   "cell_type": "code",
   "execution_count": 79,
   "id": "1976804f",
   "metadata": {},
   "outputs": [
    {
     "name": "stdout",
     "output_type": "stream",
     "text": [
      "[0 1 2 3 4 5 6 7 8 9]\n",
      "array2.shape: (2, 5)\n",
      "array3.shape: (5, 2)\n"
     ]
    }
   ],
   "source": [
    "array1 = np.arange(10)\n",
    "print(array1)\n",
    "array2 = array1.reshape(2,5)\n",
    "print('array2.shape:', array2.shape)\n",
    "array3 = array1.reshape(5,-1)\n",
    "print('array3.shape:', array3.shape)"
   ]
  },
  {
   "cell_type": "markdown",
   "id": "1003edfa",
   "metadata": {},
   "source": [
    "#### reshape(-1,1): 여러 개의 로우를 가지되 반드시 1개의 컬럼을 가진 ndarray로 변환됨.\n",
    "- 여러개의 넘파이는 ndarray는 stack이나 concat으로 결합할 때 각각의 ndarray의 형태로 통일~유용하게 사용"
   ]
  },
  {
   "cell_type": "code",
   "execution_count": 80,
   "id": "0e1b22ea",
   "metadata": {},
   "outputs": [
    {
     "name": "stdout",
     "output_type": "stream",
     "text": [
      "array3d:\n",
      " [[[0, 1], [2, 3]], [[4, 5], [6, 7]]]\n",
      "array5:\n",
      " [[0], [1], [2], [3], [4], [5], [6], [7]]\n",
      "array5.shape: (8, 1)\n",
      "array6:\n",
      " [[0], [1], [2], [3], [4], [5], [6], [7]]\n",
      "array6.shape: (8, 1)\n"
     ]
    }
   ],
   "source": [
    "array1 = np.arange(8)\n",
    "array3d = array1.reshape((2,2,2))\n",
    "print('array3d:\\n', array3d.tolist()) #tolist: ndarray를list 자료형으로 바꿈\n",
    "\n",
    "# 3 -> 2\n",
    "array5 = array3d.reshape(-1,1)\n",
    "print('array5:\\n', array5.tolist())\n",
    "print('array5.shape:', array5.shape)\n",
    "\n",
    "array6 = array1.reshape(-1,1)\n",
    "print('array6:\\n', array6.tolist())\n",
    "print('array6.shape:', array6.shape)"
   ]
  },
  {
   "cell_type": "markdown",
   "id": "93977c0b",
   "metadata": {},
   "source": [
    "### 넘파이의 ndarray의 데이터 세트 선택하기 - 인덱싱(lndexing)\n",
    "- 특정한 데이터만 추출: 원하는 위치의 인덱스 값을 지정하면 해당 위치의 데이터가 반환됨.\n",
    "- 슬라이싱(slicing): 슬라이싱은 연속된 인덱스상의 ndarray를 추출하는 방식.':'기호 사이에 시작 인덱스와 종료 인덱스를 표시하면 시작 인덱스에서 종료 인덱스-1위치에 있는 데이터의 ndarray를 반환합니다. 예를 들어 1:5라고 하면 인덱스 1과 종료 인덱스 4까지에 해당하는 ndarray를 반환\n",
    "- 팬시 인덱싱(Fancy Indexing):일정한 인덱싱 집합을 리스트 또는 ndarray 형태로 지정해 해당 위치에 있는 데이터의 ndarray를 반환합니다.\n",
    "- 불린 인덱싱(boolen lndexing): 특정 조건에 해당하는지 여부인 true/false 값 인덱싱 집합을 기반으로 true에 해당하는 인덱스 위치에 있는 데이터의 ndarray를 반환합니다"
   ]
  },
  {
   "cell_type": "markdown",
   "id": "2d0f4428",
   "metadata": {},
   "source": [
    "#### 단일 값 추출: 한개의 데이터만을 추출하는 방법\n",
    "- 1차원 ndarray\n",
    "> - index는 0부터 시작하므로 array[n]은 데이터 중 n번째에 위치한 데이터 값을 의미"
   ]
  },
  {
   "cell_type": "code",
   "execution_count": 81,
   "id": "3f6ac992",
   "metadata": {},
   "outputs": [
    {
     "name": "stdout",
     "output_type": "stream",
     "text": [
      "array1: [1 2 3 4 5 6 7 8 9]\n",
      "value: 3\n",
      "<class 'numpy.int32'>\n"
     ]
    }
   ],
   "source": [
    "array1 = np.arange(start=1, stop=10)\n",
    "print('array1:', array1)\n",
    "#index는 0부터 시작하므로 array1[2]는 3번째 index 위치의 데이터 값을 의미\n",
    "value = array1[2]\n",
    "print('value:', value)\n",
    "print(type(value))\n"
   ]
  },
  {
   "cell_type": "markdown",
   "id": "335324d7",
   "metadata": {},
   "source": [
    "> - index -1: 맨뒤의 데이터값을 의미"
   ]
  },
  {
   "cell_type": "code",
   "execution_count": 82,
   "id": "4c2d158d",
   "metadata": {},
   "outputs": [
    {
     "name": "stdout",
     "output_type": "stream",
     "text": [
      "맨 뒤의 값: 9 맨 뒤에서 두번째 값: 8\n"
     ]
    }
   ],
   "source": [
    "print('맨 뒤의 값:', array1[-1], '맨 뒤에서 두번째 값:', array1[-2])"
   ]
  },
  {
   "cell_type": "markdown",
   "id": "455057da",
   "metadata": {},
   "source": [
    "> - ndarray내의 데이터 값 수정"
   ]
  },
  {
   "cell_type": "code",
   "execution_count": 83,
   "id": "8cd48126",
   "metadata": {},
   "outputs": [
    {
     "name": "stdout",
     "output_type": "stream",
     "text": [
      "array1: [9 0 3 4 5 6 7 8 9]\n"
     ]
    }
   ],
   "source": [
    "array1[0] = 9\n",
    "array1[1] = 0\n",
    "print('array1:', array1)"
   ]
  },
  {
   "cell_type": "markdown",
   "id": "bd7961fc",
   "metadata": {},
   "source": [
    "- 다차원 ndarray\n",
    "> - 넘파이의 다차원 ndarray는 axis 구분을 가짐\n",
    "> - 2차원의 경우 콤마(,)로 분리된 로우와 칼럼 위치의 인덱스를 통해 접근"
   ]
  },
  {
   "cell_type": "code",
   "execution_count": 84,
   "id": "55bdd6a9",
   "metadata": {},
   "outputs": [
    {
     "name": "stdout",
     "output_type": "stream",
     "text": [
      "[[1 2 3]\n",
      " [4 5 6]\n",
      " [7 8 9]]\n",
      "(row=0,col=0) index 가리키는 값: 1\n",
      "(row=0,col=1) index 가리키는 값: 2\n",
      "(row=1,col=0) index 가리키는 값: 4\n",
      "(row=2,col=2) index 가리키는 값: 9\n"
     ]
    }
   ],
   "source": [
    "array1d = np.arange(start=1, stop=10)\n",
    "array2d = array1d.reshape(3,3)\n",
    "print(array2d)\n",
    "\n",
    "print('(row=0,col=0) index 가리키는 값:', array2d[0,0])\n",
    "print('(row=0,col=1) index 가리키는 값:', array2d[0,1])\n",
    "print('(row=1,col=0) index 가리키는 값:', array2d[1,0])\n",
    "print('(row=2,col=2) index 가리키는 값:', array2d[2,2])"
   ]
  },
  {
   "cell_type": "markdown",
   "id": "f0d2c5ff",
   "metadata": {},
   "source": [
    "> - axis=0: 로우 방향의 축을 의미\n",
    "> - axis=1: 칼럼 방향의 축을 의미\n",
    "> - ndarray에서는 row,col이 사용되지 않음 즉, [row=0,col=0]=[axis=0,axis=1]"
   ]
  },
  {
   "cell_type": "markdown",
   "id": "e342ad4c",
   "metadata": {},
   "source": [
    "#### 슬라이싱 \n",
    "- ':'기호를 이용해 연속한 데이터를 슬라이싱해서 추출 가능\n",
    "> - 슬라이싱 기호인 ':' 사이의 시작, 종료 인덱스는 생략 가능\n",
    "> - 단일 데이터 값을 제외한 슬라이싱, 팬시 인덱싱, 불린 인덱싱으로 추출된 데이터 세트는 모두 ndarray 타입\n"
   ]
  },
  {
   "cell_type": "code",
   "execution_count": 85,
   "id": "14e56a02",
   "metadata": {},
   "outputs": [
    {
     "name": "stdout",
     "output_type": "stream",
     "text": [
      "[1 2 3]\n",
      "<class 'numpy.ndarray'>\n"
     ]
    }
   ],
   "source": [
    "array1 = np.arange(start=1, stop=10)\n",
    "array3 = array1[0:3]\n",
    "print(array3)\n",
    "print(type(array3))"
   ]
  },
  {
   "cell_type": "markdown",
   "id": "747420c2",
   "metadata": {},
   "source": [
    "> 1차원 ndarray 슬라이싱"
   ]
  },
  {
   "cell_type": "code",
   "execution_count": 86,
   "id": "eb332d52",
   "metadata": {},
   "outputs": [
    {
     "name": "stdout",
     "output_type": "stream",
     "text": [
      "[1 2 3]\n",
      "[4 5 6 7 8 9]\n",
      "[1 2 3 4 5 6 7 8 9]\n"
     ]
    }
   ],
   "source": [
    "array1 =  np.arange(start=1, stop=10)\n",
    "array4 = array1[:3]\n",
    "print(array4)\n",
    "\n",
    "array5 = array1[3:]\n",
    "print(array5)\n",
    "\n",
    "array6 = array1[:]\n",
    "print(array6)"
   ]
  },
  {
   "cell_type": "markdown",
   "id": "9897c529",
   "metadata": {},
   "source": [
    "> 2차원 ndarray 슬라이싱"
   ]
  },
  {
   "cell_type": "code",
   "execution_count": 87,
   "id": "c98f5378",
   "metadata": {},
   "outputs": [
    {
     "name": "stdout",
     "output_type": "stream",
     "text": [
      "array2d:\n",
      " [[1 2 3]\n",
      " [4 5 6]\n",
      " [7 8 9]]\n",
      "array2d[0:2,0:2]\n",
      " [[1 2]\n",
      " [4 5]]\n",
      "array2d[1:3,1:3]\n",
      " [[5 6]\n",
      " [8 9]]\n",
      "array2d[1:3,:]\n",
      " [[4 5 6]\n",
      " [7 8 9]]\n",
      "array2d[:,:]\n",
      " [[1 2 3]\n",
      " [4 5 6]\n",
      " [7 8 9]]\n",
      "array2d[:2,1:]\n",
      " [[2 3]\n",
      " [5 6]]\n",
      "array2d[:2,0]\n",
      " [1 4]\n"
     ]
    }
   ],
   "source": [
    "array1d = np.arange(start=1, stop=10)\n",
    "array2d = array1d.reshape(3,3)\n",
    "print('array2d:\\n', array2d)\n",
    "\n",
    "print('array2d[0:2,0:2]\\n', array2d[0:2,0:2])\n",
    "print('array2d[1:3,1:3]\\n', array2d[1:3,1:3])\n",
    "print('array2d[1:3,:]\\n', array2d[1:3,:])\n",
    "print('array2d[:,:]\\n', array2d[:,:])\n",
    "print('array2d[:2,1:]\\n', array2d[:2,1:])\n",
    "print('array2d[:2,0]\\n', array2d[:2,0])"
   ]
  },
  {
   "cell_type": "markdown",
   "id": "7115e869",
   "metadata": {},
   "source": [
    "> -  다차원 ndarray에서 뒤에 오는 인덱스를 없앴을 때: 1차원 ndarray 반환"
   ]
  },
  {
   "cell_type": "code",
   "execution_count": 88,
   "id": "495e23aa",
   "metadata": {},
   "outputs": [
    {
     "name": "stdout",
     "output_type": "stream",
     "text": [
      "[1 2 3]\n",
      "[4 5 6]\n",
      "array2d[0] shape : (3,) array2d[1] shape: (3,)\n"
     ]
    }
   ],
   "source": [
    "print(array2d[0])\n",
    "print(array2d[1])\n",
    "print('array2d[0] shape :', array2d[0].shape ,'array2d[1] shape:',array2d[1].shape )"
   ]
  },
  {
   "cell_type": "markdown",
   "id": "3156a697",
   "metadata": {},
   "source": [
    "#### 펜시 인덱싱\n",
    "- 리스트나 ndarray로 \"인덱스 집합\"을 지정하면 해당 위치의 인덱스에 해당하는 ndarray 반환하는 인덱싱 방식"
   ]
  },
  {
   "cell_type": "code",
   "execution_count": 89,
   "id": "db7528f1",
   "metadata": {},
   "outputs": [
    {
     "name": "stdout",
     "output_type": "stream",
     "text": [
      "array2d[[0,1],2]=> [3, 6]\n",
      "array2d[[0,1],2]=> [[1, 2], [4, 5]]\n",
      "array2d[[0,1]]=> [[1, 2, 3], [4, 5, 6]]\n"
     ]
    }
   ],
   "source": [
    "array1d = np.arange(start=1, stop=10)\n",
    "array2d = array1d.reshape(3,3)\n",
    "\n",
    "array3 = array2d[[0,1],2] \n",
    "print('array2d[[0,1],2]=>', array3.tolist())\n",
    "\n",
    "array4 = array2d[[0,1],0:2]\n",
    "print('array2d[[0,1],2]=>', array4.tolist())\n",
    "\n",
    "array5 = array2d[[0,1]]\n",
    "print('array2d[[0,1]]=>', array5.tolist())"
   ]
  },
  {
   "cell_type": "markdown",
   "id": "22d77b05",
   "metadata": {},
   "source": [
    "#### 불린 인덱싱\n",
    "- 조건 필터링&검색 동시 가능\n",
    "> - 예제의 경우 array1d > 5인 데이터값을 찾는 조건문\n",
    "> -\n",
    "array([False, False, False, False, False,  True,  True,  True,  True])에서 False가 있는 인덱스 0~4는 무시하고, 인덱스 [5,6,7,8]이 만들어지고 이 위체 해당하는 데이터 세트 [6,7,8,9] 반환\n"
   ]
  },
  {
   "cell_type": "code",
   "execution_count": 90,
   "id": "8551fd2d",
   "metadata": {},
   "outputs": [
    {
     "name": "stdout",
     "output_type": "stream",
     "text": [
      "array1d>5 불린 인덱싱 결과 값: [6 7 8 9]\n"
     ]
    }
   ],
   "source": [
    "array1d = np.arange(start=1, stop=10)\n",
    "# [] 안에 array1d >5 Boolean Indexing 적용\n",
    "array3 = array1d[array1d>5]\n",
    "print('array1d>5 불린 인덱싱 결과 값:',  array3)"
   ]
  },
  {
   "cell_type": "code",
   "execution_count": 91,
   "id": "5667794d",
   "metadata": {},
   "outputs": [
    {
     "data": {
      "text/plain": [
       "array([False, False, False, False, False,  True,  True,  True,  True])"
      ]
     },
     "execution_count": 91,
     "metadata": {},
     "output_type": "execute_result"
    }
   ],
   "source": [
    "array1d>5"
   ]
  },
  {
   "cell_type": "code",
   "execution_count": 92,
   "id": "270eeab8",
   "metadata": {},
   "outputs": [
    {
     "name": "stdout",
     "output_type": "stream",
     "text": [
      "불린 인덱스로 필터링 결과: [6 7 8 9]\n"
     ]
    }
   ],
   "source": [
    "boolean_indexes =np.array([False, False, False, False, False,  True,  True,  True,  True])\n",
    "array3 = array1d[boolean_indexes]\n",
    "print('불린 인덱스로 필터링 결과:',array3)"
   ]
  },
  {
   "cell_type": "markdown",
   "id": "360a4d4d",
   "metadata": {},
   "source": [
    "### 행렬의 정렬: sort(), argsort()\n",
    "- np.sort() & ndarray.sort() - 기본적으로 오름차순 정렬\n",
    "\n",
    "> 1차원 행렬의 경우\n",
    ">> - 내림차순 정렬: [::-1] 적용(np.sort()[::-1]) \n",
    "\n",
    "> 2차원 행렬의 경우\n",
    ">> - axis 축 값 설정을 통해 로우 방향,또는 칼럼 방향으로 정렬 수행\n",
    "\n",
    "- np.sort(): 넘파이에서 sort()를 호출\n",
    "> - 원 행렬은 그대로 유지, 반환 값: 원행렬의 정렬된 행렬\n",
    "- ndarray.sort(): 행렬 자체에서 sort()를 호출\n",
    "> - 원 행렬 자체를 정렬한 형태로 변환, 반환 값: None"
   ]
  },
  {
   "cell_type": "code",
   "execution_count": 93,
   "id": "024c877e",
   "metadata": {},
   "outputs": [
    {
     "name": "stdout",
     "output_type": "stream",
     "text": [
      "원본행렬: [3 1 9 5]\n",
      "np.sort() 호출 후 반환된 정렬 행렬: [1 3 5 9]\n",
      "np.sort() 호출 후 원본 행렬: [3 1 9 5]\n",
      "org_array.sort 호출 후 반환된 행렬: None\n",
      "org_array.sort 호출 후 원본 행렬: [1 3 5 9]\n"
     ]
    }
   ],
   "source": [
    "org_array = np.array([3,1,9,5])\n",
    "print('원본행렬:', org_array)\n",
    "\n",
    "# np.sort()\n",
    "sort_array1 = np.sort(org_array)\n",
    "print('np.sort() 호출 후 반환된 정렬 행렬:', sort_array1)\n",
    "print('np.sort() 호출 후 원본 행렬:',org_array)\n",
    "\n",
    "#ndarray.sort()\n",
    "sort_array2 = org_array.sort()\n",
    "print('org_array.sort 호출 후 반환된 행렬:', sort_array2)\n",
    "print('org_array.sort 호출 후 원본 행렬:', org_array)"
   ]
  },
  {
   "cell_type": "code",
   "execution_count": 94,
   "id": "48201bc8",
   "metadata": {},
   "outputs": [
    {
     "name": "stdout",
     "output_type": "stream",
     "text": [
      "내림차순으로 정렬: [9 5 3 1]\n"
     ]
    }
   ],
   "source": [
    "#1차원\n",
    "sort_array1_desc = np.sort(org_array)[::-1]\n",
    "print('내림차순으로 정렬:', sort_array1_desc)"
   ]
  },
  {
   "cell_type": "code",
   "execution_count": 95,
   "id": "f062976b",
   "metadata": {},
   "outputs": [
    {
     "name": "stdout",
     "output_type": "stream",
     "text": [
      "로우 방향으로 정렬:\n",
      " [[ 7  1]\n",
      " [ 8 12]]\n",
      "칼럼 방향으로 정렬:\n",
      " [[ 8 12]\n",
      " [ 1  7]]\n"
     ]
    }
   ],
   "source": [
    "#2차원 이상\n",
    "array2d = np.array([[8,12],\n",
    "                    [7,1]])\n",
    "\n",
    "sort_array2d_axis0 = np.sort(array2d, axis=0)\n",
    "print('로우 방향으로 정렬:\\n', sort_array2d_axis0)\n",
    "\n",
    "sort_array2d_axis1 = np.sort(array2d, axis=1)\n",
    "print('칼럼 방향으로 정렬:\\n', sort_array2d_axis1)\n"
   ]
  },
  {
   "cell_type": "markdown",
   "id": "cb939548",
   "metadata": {},
   "source": [
    "#### 정렬된 행렬의 '인덱스'를 반환하기: argsort()\n",
    "- np.argsort()\n",
    "> - 원본 행렬이 정렬되었을 때,  기존 원본 행렬의 원소에 대한 \"인덱스\"를 필요로 할때 이용\n",
    "> -  정렬 행렬의 원본 행렬 Index를 ndarray 형으로 반환\n",
    "![image1.png](image1.png.) "
   ]
  },
  {
   "cell_type": "code",
   "execution_count": 100,
   "id": "e2b91175",
   "metadata": {},
   "outputs": [
    {
     "name": "stdout",
     "output_type": "stream",
     "text": [
      "<class 'numpy.ndarray'>\n",
      "행렬 정렬 시 원본 행렬의 인덱스: [1 0 3 2]\n"
     ]
    }
   ],
   "source": [
    "org_array = np.array([3,1,9,5])\n",
    "sort_indices = np.argsort(org_array)\n",
    "print(type(sort_indices))\n",
    "print('행렬 정렬 시 원본 행렬의 인덱스:', sort_indices)"
   ]
  },
  {
   "cell_type": "code",
   "execution_count": 101,
   "id": "0d56f36a",
   "metadata": {},
   "outputs": [
    {
     "name": "stdout",
     "output_type": "stream",
     "text": [
      "행렬 내림차순 정렬 시 원본 행렬의 인덱스: [2 3 0 1]\n"
     ]
    }
   ],
   "source": [
    "org_array = np.array([3,1,9,5])\n",
    "sort_indices_desc = np.argsort(org_array)[::-1]\n",
    "print('행렬 내림차순 정렬 시 원본 행렬의 인덱스:', sort_indices_desc)"
   ]
  },
  {
   "cell_type": "markdown",
   "id": "45a6f373",
   "metadata": {},
   "source": [
    "## ※ndarray는 메타 데이터(RDBMS의 TABLE 칼럼 or 판다스 DataFrame 칼럼)를 가질 수 없음\n",
    "> - 실제 값과 그 값이 뜻하는 메타 데이터를 별도의 ndarray로 각각 가져야 함 "
   ]
  },
  {
   "cell_type": "code",
   "execution_count": 103,
   "id": "5b49820c",
   "metadata": {},
   "outputs": [
    {
     "name": "stdout",
     "output_type": "stream",
     "text": [
      "성적 오름차순 정렬 시 score_array의 인덱스: [0 2 4 1 3]\n",
      "성적 오름차순으로 name_array의 이름 출력: ['John' 'Sarah' 'Samuel' 'Mike' 'Kate']\n"
     ]
    }
   ],
   "source": [
    "import numpy as np\n",
    "\n",
    "name_array = np.array(['John', 'Mike', 'Sarah', 'Kate', 'Samuel'])\n",
    "score_array = np.array([78, 95, 84,98,88])\n",
    "\n",
    "sort_indices_asc = np.argsort(score_array)\n",
    "print('성적 오름차순 정렬 시 score_array의 인덱스:', sort_indices_asc)\n",
    "print('성적 오름차순으로 name_array의 이름 출력:', name_array[sort_indices_asc])"
   ]
  },
  {
   "cell_type": "markdown",
   "id": "bbb77ad2",
   "metadata": {},
   "source": [
    "### 선형대수 연산 - 행렬 내적가 전치 행렬 구하기\n",
    "- np.dot(): 행렬 내적(행렬 곱) ex) 두 행렬 A와 B의 내적\n",
    "![image2.png](image2.png) "
   ]
  },
  {
   "cell_type": "code",
   "execution_count": 107,
   "id": "d72f4479",
   "metadata": {},
   "outputs": [
    {
     "name": "stdout",
     "output_type": "stream",
     "text": [
      "행렬 내적 결과:\n",
      " [[ 58  64]\n",
      " [139 154]]\n"
     ]
    }
   ],
   "source": [
    "A = np.array([[1,2,3],\n",
    "             [4,5,6]])\n",
    "B = np.array([[7,8],\n",
    "             [9,10],\n",
    "             [11,12]])\n",
    "dot_product= np.dot(A,B)\n",
    "print('행렬 내적 결과:\\n', dot_product)"
   ]
  },
  {
   "cell_type": "markdown",
   "id": "f8d2322b",
   "metadata": {},
   "source": [
    "- 전치 행렬\n",
    "원 행렬에서 행과 열의 위치를 교환한 원소로 구성한 행렬"
   ]
  },
  {
   "cell_type": "code",
   "execution_count": 109,
   "id": "af0f8012",
   "metadata": {},
   "outputs": [
    {
     "name": "stdout",
     "output_type": "stream",
     "text": [
      "A의 전치 행렬:\n",
      " [[1 3]\n",
      " [2 4]]\n"
     ]
    }
   ],
   "source": [
    "A = np.array([[1,2],\n",
    "              [3,4]])\n",
    "transpose_mat = np.transpose(A)\n",
    "print('A의 전치 행렬:\\n', transpose_mat)"
   ]
  }
 ],
 "metadata": {
  "kernelspec": {
   "display_name": "Python 3 (ipykernel)",
   "language": "python",
   "name": "python3"
  },
  "language_info": {
   "codemirror_mode": {
    "name": "ipython",
    "version": 3
   },
   "file_extension": ".py",
   "mimetype": "text/x-python",
   "name": "python",
   "nbconvert_exporter": "python",
   "pygments_lexer": "ipython3",
   "version": "3.9.7"
  }
 },
 "nbformat": 4,
 "nbformat_minor": 5
}
